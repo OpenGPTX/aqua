{
 "cells": [
  {
   "cell_type": "code",
   "execution_count": 49,
   "metadata": {},
   "outputs": [],
   "source": [
    "import sys\n",
    "sys.path.append('..')\n",
    "import pandas as pd\n",
    "from Constants import Datasets\n",
    "import numpy as np\n",
    "datasets = [dataset.name for dataset in Datasets]\n",
    "metrics = [\n",
    "'total_words_per_doc',\n",
    "'avg_word_length', \n",
    "'total_num_sent',\n",
    "'avg_sent_length',\n",
    "'token_type_ratio',\n",
    "'symbol_word_ratio',\n",
    "'num_non_alphabet_words'\n",
    "]\n",
    "num_samples = 10000"
   ]
  },
  {
   "cell_type": "code",
   "execution_count": 50,
   "metadata": {},
   "outputs": [],
   "source": [
    "#embeddings dim reduced\n",
    "points = pd.DataFrame()\n",
    "for i, d1 in enumerate(datasets):\n",
    "    d = pd.DataFrame(np.random.randn(num_samples, 2) - i, columns=['pc1', 'pc2'])\n",
    "    d['name'] = d1\n",
    "    points = pd.concat((points, d))\n",
    "import uuid\n",
    "points['id'] = [uuid.uuid4() for _ in range(len(points))]\n",
    "points['lang'] = 'de'"
   ]
  },
  {
   "cell_type": "code",
   "execution_count": 58,
   "metadata": {},
   "outputs": [],
   "source": [
    "#generate dummy metrics for datasets\n",
    "all_metrics = pd.DataFrame()\n",
    "for j, dataset in enumerate(datasets):\n",
    "    metrics_for_dataset = pd.DataFrame(np.random.randint(1,10) * \\\n",
    "        np.random.random_sample((num_samples, len(metrics))) + j, columns=metrics)\n",
    "    all_metrics = pd.concat((all_metrics, metrics_for_dataset))\n",
    "all_metrics['id'] = points['id']\n",
    "all_metrics['name'] = points[points.id==points.id]['name']\n",
    "all_metrics['lang'] = points[points.id==points.id]['lang']"
   ]
  },
  {
   "cell_type": "code",
   "execution_count": 60,
   "metadata": {},
   "outputs": [],
   "source": [
    "points.to_csv('../datasets/dataset.csv', index=False)\n",
    "all_metrics.to_csv('../datasets/metrics.csv', index=False)"
   ]
  },
  {
   "cell_type": "code",
   "execution_count": 61,
   "metadata": {},
   "outputs": [],
   "source": [
    "#generate composition details \n",
    "import pandas as pd\n",
    "df = pd.read_csv(\"../datasets/dataset.csv\")\n",
    "comp = df.groupby(by=['name', 'lang']).count().reset_index()[['name', 'lang', 'id']]\n",
    "comp.columns=['name', 'lang', 'count']\n",
    "comp.to_csv('../datasets/global_size.csv', index=False)"
   ]
  },
  {
   "cell_type": "code",
   "execution_count": 62,
   "metadata": {},
   "outputs": [],
   "source": [
    "#trying distribution plot\n",
    "import pandas as pd\n",
    "df = pd.read_csv(\"../datasets/metrics.csv\")\n",
    "df2 = pd.read_csv(\"../datasets/dataset.csv\")"
   ]
  },
  {
   "cell_type": "code",
   "execution_count": 23,
   "metadata": {},
   "outputs": [],
   "source": [
    "colors = ['#06161a', '#acc0c6', '#c7755e', '#edaa47', '#96a44e']\n",
    "dataset_vs_color = {dataset: color for dataset, color in zip(datasets, colors)}"
   ]
  },
  {
   "cell_type": "code",
   "execution_count": 65,
   "metadata": {},
   "outputs": [
    {
     "data": {
      "text/plain": [
       "Index(['total_words_per_doc', 'avg_word_length', 'total_num_sent',\n",
       "       'avg_sent_length', 'token_type_ratio', 'symbol_word_ratio',\n",
       "       'num_non_alphabet_words', 'id', 'name', 'lang'],\n",
       "      dtype='object')"
      ]
     },
     "execution_count": 65,
     "metadata": {},
     "output_type": "execute_result"
    }
   ],
   "source": [
    "df.columns"
   ]
  },
  {
   "cell_type": "code",
   "execution_count": 66,
   "metadata": {},
   "outputs": [
    {
     "ename": "AttributeError",
     "evalue": "module 'plotly.express' has no attribute 'create_distplot'",
     "output_type": "error",
     "traceback": [
      "\u001b[0;31m---------------------------------------------------------------------------\u001b[0m",
      "\u001b[0;31mAttributeError\u001b[0m                            Traceback (most recent call last)",
      "Cell \u001b[0;32mIn [66], line 2\u001b[0m\n\u001b[1;32m      1\u001b[0m \u001b[38;5;28;01mimport\u001b[39;00m \u001b[38;5;21;01mplotly\u001b[39;00m\u001b[38;5;21;01m.\u001b[39;00m\u001b[38;5;21;01mfigure_factory\u001b[39;00m \u001b[38;5;28;01mas\u001b[39;00m \u001b[38;5;21;01mff\u001b[39;00m\n\u001b[0;32m----> 2\u001b[0m fig \u001b[38;5;241m=\u001b[39m \u001b[43mpx\u001b[49m\u001b[38;5;241;43m.\u001b[39;49m\u001b[43mcreate_distplot\u001b[49m(df, x\u001b[38;5;241m=\u001b[39m\u001b[38;5;124m\"\u001b[39m\u001b[38;5;124mtotal_words_per_doc\u001b[39m\u001b[38;5;124m\"\u001b[39m, color\u001b[38;5;241m=\u001b[39m\u001b[38;5;124m\"\u001b[39m\u001b[38;5;124msex\u001b[39m\u001b[38;5;124m\"\u001b[39m, marginal\u001b[38;5;241m=\u001b[39m\u001b[38;5;124m\"\u001b[39m\u001b[38;5;124mrug\u001b[39m\u001b[38;5;124m\"\u001b[39m,\n\u001b[1;32m      3\u001b[0m                    hover_data\u001b[38;5;241m=\u001b[39mdf\u001b[38;5;241m.\u001b[39mcolumns)\n\u001b[1;32m      4\u001b[0m fig\u001b[38;5;241m.\u001b[39mshow()\n",
      "\u001b[0;31mAttributeError\u001b[0m: module 'plotly.express' has no attribute 'create_distplot'"
     ]
    }
   ],
   "source": [
    "import plotly.figure_factory as ff\n",
    "fig = px.histogram(df, x=\"total_words_per_doc\", color=\"sex\", marginal=\"rug\",\n",
    "                   hover_data=df.columns)\n",
    "fig.show()"
   ]
  }
 ],
 "metadata": {
  "kernelspec": {
   "display_name": "aqua",
   "language": "python",
   "name": "aqua"
  },
  "language_info": {
   "codemirror_mode": {
    "name": "ipython",
    "version": 3
   },
   "file_extension": ".py",
   "mimetype": "text/x-python",
   "name": "python",
   "nbconvert_exporter": "python",
   "pygments_lexer": "ipython3",
   "version": "3.9.7"
  },
  "orig_nbformat": 4,
  "vscode": {
   "interpreter": {
    "hash": "916dbcbb3f70747c44a77c7bcd40155683ae19c65e1c03b4aa3499c5328201f1"
   }
  }
 },
 "nbformat": 4,
 "nbformat_minor": 2
}
