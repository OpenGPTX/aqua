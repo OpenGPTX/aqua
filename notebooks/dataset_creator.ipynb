{
 "cells": [
  {
   "cell_type": "code",
   "execution_count": null,
   "metadata": {},
   "outputs": [],
   "source": [
    "import sys\n",
    "sys.path.append('..')\n",
    "import pandas as pd\n",
    "from Constants import Datasets\n",
    "import numpy as np\n",
    "datasets = [dataset.name for dataset in Datasets]\n",
    "metrics = [\n",
    "'total_num_words',\n",
    "'avg_word_length', \n",
    "'total_num_sent',\n",
    "'avg_sent_length',\n",
    "'token_type_ratio',\n",
    "'symbol_word_ratio',\n",
    "'num_non_alphabet_words'\n",
    "]\n",
    "num_samples = 10000"
   ]
  },
  {
   "cell_type": "code",
   "execution_count": null,
   "metadata": {},
   "outputs": [],
   "source": [
    "#embeddings dim reduced\n",
    "points = pd.DataFrame()\n",
    "for i, d1 in enumerate(datasets):\n",
    "    d = pd.DataFrame(np.random.randn(num_samples, 2) - i, columns=['pc1', 'pc2'])\n",
    "    d['name'] = d1\n",
    "    points = pd.concat((points, d))\n",
    "import uuid\n",
    "points['id'] = [uuid.uuid4() for _ in range(len(points))]"
   ]
  },
  {
   "cell_type": "code",
   "execution_count": null,
   "metadata": {},
   "outputs": [],
   "source": [
    "#generate dummy metrics for datasets\n",
    "all_metrics = pd.DataFrame()\n",
    "for j, dataset in enumerate(datasets):\n",
    "    metrics_for_dataset = pd.DataFrame(np.random.randn(num_samples, len(metrics)) + j, columns=metrics)\n",
    "    all_metrics = pd.concat((all_metrics, metrics_for_dataset))\n",
    "all_metrics['id'] = points['id']"
   ]
  },
  {
   "cell_type": "code",
   "execution_count": null,
   "metadata": {},
   "outputs": [],
   "source": [
    "points.to_csv('../datasets/dataset.csv', index=False)\n",
    "all_metrics.to_csv('../datasets/metrics.csv', index=False)"
   ]
  }
 ],
 "metadata": {
  "kernelspec": {
   "display_name": "aqua",
   "language": "python",
   "name": "aqua"
  },
  "language_info": {
   "codemirror_mode": {
    "name": "ipython",
    "version": 3
   },
   "file_extension": ".py",
   "mimetype": "text/x-python",
   "name": "python",
   "nbconvert_exporter": "python",
   "pygments_lexer": "ipython3",
   "version": "3.9.7"
  },
  "orig_nbformat": 4,
  "vscode": {
   "interpreter": {
    "hash": "916dbcbb3f70747c44a77c7bcd40155683ae19c65e1c03b4aa3499c5328201f1"
   }
  }
 },
 "nbformat": 4,
 "nbformat_minor": 2
}
